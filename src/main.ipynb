{
 "cells": [
  {
   "cell_type": "markdown",
   "id": "fe5a356f",
   "metadata": {},
   "source": [
    "# Cell Instance Segmentation using Z-Stacks in Digital Cytopathology\n",
    "\n",
    "\n",
    "\n",
    "This notebook is an entry-point for exploring the Cell Instance Segmentation Dataset and running code for the paper:\n",
    "\n",
    "\n",
    "```\n",
    "A. Bouyssoux, R. Fezzani and J. -C. Olivo-Marin, \"Cell Instance Segmentation Using Z-Stacks In Digital Cytopathology,\" 2022 IEEE International Symposium on Biomedical Imaging (ISBI), 2022.\n",
    "```"
   ]
  },
  {
   "cell_type": "markdown",
   "id": "45e85cfd",
   "metadata": {},
   "source": [
    "## Baseline:"
   ]
  },
  {
   "cell_type": "code",
   "execution_count": null,
   "id": "1b0e266b",
   "metadata": {},
   "outputs": [],
   "source": [
    "import os\n",
    "import warnings\n",
    "from instanceseg import baseline\n",
    "\n",
    "dataset_folder = '../CISD'\n",
    "data_json_file = '../CISD/CISD.json'\n",
    "sample_type = 'edf'\n",
    "use_stack = True\n",
    "\n",
    "assert sample_type in ['center_slice', 'edf'], 'sample_type should be either center_slice or edf'\n",
    "\n",
    "img_folder = os.path.join(dataset_folder, sample_type)\n",
    "stack_folder = os.path.join(dataset_folder, 'stack')"
   ]
  },
  {
   "cell_type": "markdown",
   "id": "5ad6ff87",
   "metadata": {},
   "source": [
    "This method is not based on parameters learning, and can be directly evaluated on the test set:"
   ]
  },
  {
   "cell_type": "code",
   "execution_count": null,
   "id": "14cf6052",
   "metadata": {},
   "outputs": [],
   "source": [
    "with warnings.catch_warnings():\n",
    "    warnings.filterwarnings('ignore', category=RuntimeWarning)\n",
    "    baseline.main.eval(data_json_file, img_folder, stack_folder, use_stack=use_stack)"
   ]
  },
  {
   "cell_type": "markdown",
   "id": "ebccba76",
   "metadata": {},
   "source": [
    "## ANCIS"
   ]
  },
  {
   "cell_type": "code",
   "execution_count": null,
   "id": "4b6e4575",
   "metadata": {},
   "outputs": [],
   "source": [
    "import os\n",
    "from instanceseg import ancis\n",
    "\n",
    "dataset_folder = '../CISD'\n",
    "data_json_file = '../CISD/CISD.json'\n",
    "sample_type = 'stack'\n",
    "\n",
    "assert sample_type in ['center_slice', 'edf', 'stack'], 'sample_type should be either center_slice or edf'\n",
    "\n",
    "img_folder = os.path.join(dataset_folder, sample_type)"
   ]
  },
  {
   "cell_type": "markdown",
   "id": "4b72e3b2",
   "metadata": {},
   "source": [
    "Train the detection branch then the segmentation branch:"
   ]
  },
  {
   "cell_type": "code",
   "execution_count": null,
   "id": "c0c60878",
   "metadata": {},
   "outputs": [],
   "source": [
    "ancis.train_detect.train(data_json_file, img_folder, sample_type)\n",
    "ancis.train_seg.train(data_json_file, img_folder, sample_type)"
   ]
  },
  {
   "cell_type": "markdown",
   "id": "d230b728",
   "metadata": {},
   "source": [
    "Evaluate the performances on the test set:"
   ]
  },
  {
   "cell_type": "code",
   "execution_count": null,
   "id": "1ab9d6a7",
   "metadata": {},
   "outputs": [],
   "source": [
    "ancis.test.test(data_json_file, img_folder, sample_type)"
   ]
  },
  {
   "cell_type": "markdown",
   "id": "305078e1",
   "metadata": {},
   "source": [
    "## SOLO"
   ]
  },
  {
   "cell_type": "code",
   "execution_count": null,
   "id": "5e0ebf67",
   "metadata": {},
   "outputs": [],
   "source": [
    "import os\n",
    "from instanceseg import solo\n",
    "\n",
    "dataset_folder = '../CISD'\n",
    "data_json_file = '../CISD/CISD.json'\n",
    "sample_type = 'stack'\n",
    "\n",
    "assert sample_type in ['center_slice', 'edf', 'stack'], 'sample_type should be either center_slice or edf'\n",
    "\n",
    "img_folder = os.path.join(dataset_folder, sample_type)"
   ]
  },
  {
   "cell_type": "markdown",
   "id": "6c6469a0",
   "metadata": {},
   "source": [
    "Train the network:"
   ]
  },
  {
   "cell_type": "code",
   "execution_count": null,
   "id": "952560ce",
   "metadata": {},
   "outputs": [],
   "source": [
    "solo.train.train(data_json_file, IMG_FOLDER, sample_type)"
   ]
  },
  {
   "cell_type": "markdown",
   "id": "bc6c955f",
   "metadata": {},
   "source": [
    "Evaluate the performances on the test set:"
   ]
  },
  {
   "cell_type": "code",
   "execution_count": null,
   "id": "c555f398",
   "metadata": {},
   "outputs": [],
   "source": [
    "solo.test.test(data_json_file, img_folder, sample_type)"
   ]
  }
 ],
 "metadata": {
  "kernelspec": {
   "display_name": "Python 3",
   "language": "python",
   "name": "python3"
  },
  "language_info": {
   "codemirror_mode": {
    "name": "ipython",
    "version": 3
   },
   "file_extension": ".py",
   "mimetype": "text/x-python",
   "name": "python",
   "nbconvert_exporter": "python",
   "pygments_lexer": "ipython3",
   "version": "3.8.10"
  }
 },
 "nbformat": 4,
 "nbformat_minor": 5
}
